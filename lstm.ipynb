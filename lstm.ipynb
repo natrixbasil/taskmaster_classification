{
 "cells": [
  {
   "cell_type": "code",
   "execution_count": 96,
   "metadata": {},
   "outputs": [],
   "source": [
    "import json\n",
    "import pandas as pd\n",
    "import numpy as np\n",
    "from sklearn.model_selection import train_test_split\n",
    "from keras.preprocessing.text import Tokenizer\n",
    "from keras.preprocessing.sequence import pad_sequences\n",
    "from keras.utils import to_categorical\n",
    "from keras.models import Sequential\n",
    "from keras.layers import Embedding, LSTM, Dense\n"
   ]
  },
  {
   "cell_type": "code",
   "execution_count": 97,
   "metadata": {},
   "outputs": [],
   "source": [
    "#opening already translated and tagged dataset\n",
    "with open('translated_dataframe.json', 'r', encoding='utf-8') as file:\n",
    "    translated_data = json.load(file)"
   ]
  },
  {
   "cell_type": "code",
   "execution_count": 98,
   "metadata": {},
   "outputs": [],
   "source": [
    "translated_df = pd.DataFrame(translated_data)"
   ]
  },
  {
   "cell_type": "code",
   "execution_count": 99,
   "metadata": {},
   "outputs": [],
   "source": [
    "#need this bc too lasy to rewrite the json\n",
    "translated_df['tag'][130] = str(2)\n",
    "translated_df['tag'][157] = str(2)\n",
    "translated_df['tag'][530] = str(4)\n",
    "translated_df['tag'][653] = str(1)\n",
    "translated_df['tag'][813] = str(1)"
   ]
  },
  {
   "cell_type": "code",
   "execution_count": 100,
   "metadata": {},
   "outputs": [],
   "source": [
    "X = translated_df['original'].values\n",
    "str_y = translated_df['tag'].values"
   ]
  },
  {
   "cell_type": "code",
   "execution_count": 101,
   "metadata": {},
   "outputs": [],
   "source": [
    "#making tags int instead of str and fixing zero-based indexing\n",
    "y = []\n",
    "for i in str_y:\n",
    "    i = int(i)-1\n",
    "    y.append(i)"
   ]
  },
  {
   "cell_type": "code",
   "execution_count": 102,
   "metadata": {},
   "outputs": [],
   "source": [
    "X_train, X_test, y_train, y_test = train_test_split(X, y, test_size=0.3, random_state=42)"
   ]
  },
  {
   "cell_type": "code",
   "execution_count": 103,
   "metadata": {},
   "outputs": [
    {
     "data": {
      "text/plain": [
       "1620"
      ]
     },
     "execution_count": 103,
     "metadata": {},
     "output_type": "execute_result"
    }
   ],
   "source": [
    "#finding the number of unique words - vocabulary size\n",
    "def num_words(sentence):\n",
    "  words_list = []\n",
    "  for sent in sentence:\n",
    "    for word in sent.split():\n",
    "      if word.lower() not in words_list:\n",
    "        words_list.append(word.lower())\n",
    "      else:\n",
    "        pass\n",
    "  return words_list\n",
    "\n",
    "evrth_list = []\n",
    "for sentence in translated_df['translated']:\n",
    "    evrth_list.append(sentence)\n",
    "\n",
    "    \n",
    "num_words = num_words(evrth_list)\n",
    "len(num_words)"
   ]
  },
  {
   "cell_type": "code",
   "execution_count": 104,
   "metadata": {},
   "outputs": [],
   "source": [
    "#tokenization\n",
    "max_words = 1620  # Define the maximum number of words to keep in the vocabulary\n",
    "tokenizer = Tokenizer(num_words=max_words)\n",
    "tokenizer.fit_on_texts(X_train)\n",
    "\n",
    "X_train_seq = tokenizer.texts_to_sequences(X_train)\n",
    "X_test_seq = tokenizer.texts_to_sequences(X_test)"
   ]
  },
  {
   "cell_type": "code",
   "execution_count": 105,
   "metadata": {},
   "outputs": [
    {
     "name": "stdout",
     "output_type": "stream",
     "text": [
      "10\n",
      "1\n"
     ]
    }
   ],
   "source": [
    "#finding the longest and the shortest sentence\n",
    "count_list = []\n",
    "for sentence in translated_df['translated']:\n",
    "    splitted = sentence.split()\n",
    "    count_list.append(len(splitted))\n",
    "\n",
    "print(max(count_list))\n",
    "print(min(count_list))"
   ]
  },
  {
   "cell_type": "code",
   "execution_count": 106,
   "metadata": {},
   "outputs": [],
   "source": [
    "max_sequence_length = 10  # Define the maximum sequence length\n",
    "X_train_pad = pad_sequences(X_train_seq, maxlen=max_sequence_length)\n",
    "X_test_pad = pad_sequences(X_test_seq, maxlen=max_sequence_length)"
   ]
  },
  {
   "cell_type": "code",
   "execution_count": 107,
   "metadata": {},
   "outputs": [],
   "source": [
    "num_classes = len(np.unique(y))\n",
    "y_train_encoded = to_categorical(y_train, num_classes)\n",
    "y_test_encoded = to_categorical(y_test, num_classes)"
   ]
  },
  {
   "cell_type": "code",
   "execution_count": 108,
   "metadata": {},
   "outputs": [
    {
     "name": "stdout",
     "output_type": "stream",
     "text": [
      "Epoch 1/10\n",
      "12/12 [==============================] - 2s 54ms/step - loss: 1.5753 - accuracy: 0.2421 - val_loss: 1.5283 - val_accuracy: 0.2788\n",
      "Epoch 2/10\n",
      "12/12 [==============================] - 0s 18ms/step - loss: 1.5227 - accuracy: 0.3590 - val_loss: 1.5112 - val_accuracy: 0.3462\n",
      "Epoch 3/10\n",
      "12/12 [==============================] - 0s 20ms/step - loss: 1.4850 - accuracy: 0.3741 - val_loss: 1.4855 - val_accuracy: 0.2949\n",
      "Epoch 4/10\n",
      "12/12 [==============================] - 0s 20ms/step - loss: 1.4043 - accuracy: 0.5585 - val_loss: 1.4361 - val_accuracy: 0.3718\n",
      "Epoch 5/10\n",
      "12/12 [==============================] - 0s 20ms/step - loss: 1.2275 - accuracy: 0.5722 - val_loss: 1.3374 - val_accuracy: 0.5000\n",
      "Epoch 6/10\n",
      "12/12 [==============================] - 0s 21ms/step - loss: 0.9130 - accuracy: 0.7400 - val_loss: 1.2372 - val_accuracy: 0.4968\n",
      "Epoch 7/10\n",
      "12/12 [==============================] - 0s 20ms/step - loss: 0.5645 - accuracy: 0.8583 - val_loss: 1.3134 - val_accuracy: 0.5064\n",
      "Epoch 8/10\n",
      "12/12 [==============================] - 0s 20ms/step - loss: 0.3898 - accuracy: 0.8941 - val_loss: 1.2521 - val_accuracy: 0.5449\n",
      "Epoch 9/10\n",
      "12/12 [==============================] - 0s 20ms/step - loss: 0.2316 - accuracy: 0.9326 - val_loss: 1.3672 - val_accuracy: 0.5545\n",
      "Epoch 10/10\n",
      "12/12 [==============================] - 0s 20ms/step - loss: 0.1539 - accuracy: 0.9835 - val_loss: 1.3692 - val_accuracy: 0.5064\n"
     ]
    },
    {
     "data": {
      "text/plain": [
       "<keras.src.callbacks.History at 0x28a9ffafe50>"
      ]
     },
     "execution_count": 108,
     "metadata": {},
     "output_type": "execute_result"
    }
   ],
   "source": [
    "model = Sequential()\n",
    "model.add(Embedding(max_words, 128, input_length=max_sequence_length))\n",
    "model.add(LSTM(128))\n",
    "model.add(Dense(num_classes, activation='softmax'))\n",
    "\n",
    "model.compile(optimizer='adam', loss='categorical_crossentropy', metrics=['accuracy'])\n",
    "\n",
    "batch_size = 64\n",
    "epochs = 10\n",
    "model.fit(X_train_pad, y_train_encoded, batch_size=batch_size, epochs=epochs, validation_data=(X_test_pad, y_test_encoded))\n"
   ]
  },
  {
   "cell_type": "code",
   "execution_count": 109,
   "metadata": {},
   "outputs": [
    {
     "name": "stdout",
     "output_type": "stream",
     "text": [
      "WARNING:tensorflow:6 out of the last 12 calls to <function Model.make_predict_function.<locals>.predict_function at 0x0000028A995CCA40> triggered tf.function retracing. Tracing is expensive and the excessive number of tracings could be due to (1) creating @tf.function repeatedly in a loop, (2) passing tensors with different shapes, (3) passing Python objects instead of tensors. For (1), please define your @tf.function outside of the loop. For (2), @tf.function has reduce_retracing=True option that can avoid unnecessary retracing. For (3), please refer to https://www.tensorflow.org/guide/function#controlling_retracing and https://www.tensorflow.org/api_docs/python/tf/function for  more details.\n",
      "1/1 [==============================] - 0s 331ms/step\n",
      "[[0.05608143 0.11524739 0.00988332 0.4392699  0.379518  ]]\n"
     ]
    }
   ],
   "source": [
    "new_texts = ['Помыть посуду']\n",
    "new_texts_seq = tokenizer.texts_to_sequences(new_texts)\n",
    "new_texts_pad = pad_sequences(new_texts_seq, maxlen=max_sequence_length)\n",
    "\n",
    "predictions = model.predict(new_texts_pad)\n",
    "print(predictions)"
   ]
  }
 ],
 "metadata": {
  "kernelspec": {
   "display_name": "Python 3",
   "language": "python",
   "name": "python3"
  },
  "language_info": {
   "codemirror_mode": {
    "name": "ipython",
    "version": 3
   },
   "file_extension": ".py",
   "mimetype": "text/x-python",
   "name": "python",
   "nbconvert_exporter": "python",
   "pygments_lexer": "ipython3",
   "version": "3.11.3"
  },
  "orig_nbformat": 4
 },
 "nbformat": 4,
 "nbformat_minor": 2
}
