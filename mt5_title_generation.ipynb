{
 "cells": [
  {
   "cell_type": "code",
   "execution_count": 17,
   "metadata": {},
   "outputs": [],
   "source": [
    "from transformers import MT5ForConditionalGeneration, T5Tokenizer"
   ]
  },
  {
   "cell_type": "code",
   "execution_count": 18,
   "metadata": {},
   "outputs": [],
   "source": [
    "model_name = 'google/mt5-small'\n",
    "model = MT5ForConditionalGeneration.from_pretrained(model_name)\n",
    "tokenizer = T5Tokenizer.from_pretrained(model_name)"
   ]
  },
  {
   "cell_type": "code",
   "execution_count": 24,
   "metadata": {},
   "outputs": [],
   "source": [
    "def generate_russian_title(text, max_words=5):\n",
    "    # Prepare the model input\n",
    "    input_text = \"сформулируй заголовок из нескольких слов для этого текста: \" + text\n",
    "    input_ids = tokenizer.encode(input_text, return_tensors=\"pt\")\n",
    "\n",
    "    # Generate output using the model\n",
    "    # Set max_length a bit higher to consider spaces and tokens\n",
    "    output_sequences = model.generate(\n",
    "        input_ids,\n",
    "        max_length=max_words + 10,  # Includes buffer for spaces/punctuation\n",
    "        num_beams=5,\n",
    "        no_repeat_ngram_size=2,\n",
    "        early_stopping=True\n",
    "    )\n",
    "\n",
    "    # Decode the generated sequence into text\n",
    "    output_text = tokenizer.decode(output_sequences[0], skip_special_tokens=True)\n",
    "\n",
    "    # Further process output to trim excess words\n",
    "    trimmed_output = ' '.join(output_text.split()[:max_words])\n",
    "    return trimmed_output\n"
   ]
  },
  {
   "cell_type": "code",
   "execution_count": 25,
   "metadata": {},
   "outputs": [
    {
     "name": "stdout",
     "output_type": "stream",
     "text": [
      "Generated Title: <extra_id_0>.\n"
     ]
    }
   ],
   "source": [
    "russian_text = \"Один мой друг задумался над тем, а правильно ли мы читаем книги? И действительно, чтение процесс сам по себе сложный: тебе необходимо сконцентрироваться на тексте, погрузиться в контекст, подключить воображение и еще много чего.\"\n",
    "title = generate_russian_title(russian_text)\n",
    "print(\"Generated Title:\", title)"
   ]
  }
 ],
 "metadata": {
  "kernelspec": {
   "display_name": "Python 3",
   "language": "python",
   "name": "python3"
  },
  "language_info": {
   "codemirror_mode": {
    "name": "ipython",
    "version": 3
   },
   "file_extension": ".py",
   "mimetype": "text/x-python",
   "name": "python",
   "nbconvert_exporter": "python",
   "pygments_lexer": "ipython3",
   "version": "3.11.3"
  }
 },
 "nbformat": 4,
 "nbformat_minor": 2
}
