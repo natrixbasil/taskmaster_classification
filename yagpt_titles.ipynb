{
 "cells": [
  {
   "cell_type": "code",
   "execution_count": 1,
   "metadata": {},
   "outputs": [],
   "source": [
    "import requests"
   ]
  },
  {
   "cell_type": "code",
   "execution_count": 2,
   "metadata": {},
   "outputs": [
    {
     "name": "stdout",
     "output_type": "stream",
     "text": [
      "NASA восстановила связь с Вояджером-1, который сейчас находится на расстоянии 24 миллиарда километров где-то в открытом космосе, ему 46 лет. Космический зонд, прекративший передавать читаемые данные в конце 2023, наконец удалось починить. Оказалось, проблема была в неисправном блоке памяти: спецы NASA перенесли код на рабочий, тем самым вернув аппарат в строй.\n"
     ]
    }
   ],
   "source": [
    "#потом заменится на сообщение от пользователя\n",
    "with open('long_text_sample.txt', encoding='utf8') as f:\n",
    "    text = f.read()\n",
    "print(text)"
   ]
  },
  {
   "cell_type": "code",
   "execution_count": 3,
   "metadata": {},
   "outputs": [],
   "source": [
    "#открываем файл с id каталога на яндекс клауде и api ключом\n",
    "with open('yagpt_login.txt') as f:\n",
    "    lines = f.readlines()\n",
    "    cat_id, api_key = lines[0].strip(), lines[1].strip()"
   ]
  },
  {
   "cell_type": "code",
   "execution_count": 4,
   "metadata": {},
   "outputs": [],
   "source": [
    "#составляем промпт\n",
    "prompt = {\n",
    "    #уточняем модель\n",
    "    \"modelUri\": f\"gpt://{cat_id}/yandexgpt-lite\",\n",
    "    #стандартные параметры\n",
    "    \"completionOptions\": {\n",
    "        \"stream\": False,\n",
    "        \"temperature\": 0.6,\n",
    "        \"maxTokens\": \"2000\"\n",
    "    },\n",
    "    \"messages\": [\n",
    "        {\n",
    "            #определяем контекст диалога, что должна сделать модель\n",
    "            \"role\": \"system\",\n",
    "            \"text\": \"Сформулируй короткое название из нескольких слов для длинного текста, передающее его суть\"\n",
    "        },\n",
    "        {\n",
    "            #что пришло от пользователя\n",
    "            \"role\": \"user\",\n",
    "            \"text\": text\n",
    "        }\n",
    "    ]\n",
    "}"
   ]
  },
  {
   "cell_type": "code",
   "execution_count": 5,
   "metadata": {},
   "outputs": [],
   "source": [
    "#адрес, на который отправляем запрос\n",
    "url = \"https://llm.api.cloud.yandex.net/foundationModels/v1/completion\"\n",
    "#вставляем api-key\n",
    "headers = {\n",
    "    \"Content-Type\": \"application/json\",\n",
    "    \"Authorization\": f\"Api-Key {api_key}\"\n",
    "}\n",
    "\n",
    "#получаем ответ\n",
    "response = requests.post(url, headers=headers, json=prompt)"
   ]
  },
  {
   "cell_type": "code",
   "execution_count": 7,
   "metadata": {},
   "outputs": [
    {
     "name": "stdout",
     "output_type": "stream",
     "text": [
      "«Вояджер-1» вернулся.\n"
     ]
    }
   ],
   "source": [
    "#извлекаем из ответа нужную часть\n",
    "resp_json = response.json()\n",
    "title = resp_json[\"result\"][\"alternatives\"][0][\"message\"][\"text\"]\n",
    "print(title)"
   ]
  },
  {
   "cell_type": "code",
   "execution_count": 9,
   "metadata": {},
   "outputs": [
    {
     "name": "stdout",
     "output_type": "stream",
     "text": [
      "{'result': {'alternatives': [{'message': {'role': 'assistant', 'text': '«Вояджер-1» вернулся.'}, 'status': 'ALTERNATIVE_STATUS_FINAL'}], 'usage': {'inputTextTokens': '116', 'completionTokens': '9', 'totalTokens': '125'}, 'modelVersion': '18.01.2024'}}\n"
     ]
    }
   ],
   "source": [
    "print(resp_json)"
   ]
  }
 ],
 "metadata": {
  "kernelspec": {
   "display_name": "Python 3",
   "language": "python",
   "name": "python3"
  },
  "language_info": {
   "codemirror_mode": {
    "name": "ipython",
    "version": 3
   },
   "file_extension": ".py",
   "mimetype": "text/x-python",
   "name": "python",
   "nbconvert_exporter": "python",
   "pygments_lexer": "ipython3",
   "version": "3.11.3"
  }
 },
 "nbformat": 4,
 "nbformat_minor": 2
}
