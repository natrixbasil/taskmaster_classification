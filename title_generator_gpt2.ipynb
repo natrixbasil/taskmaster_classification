{
 "cells": [
  {
   "cell_type": "code",
   "execution_count": 1,
   "metadata": {},
   "outputs": [
    {
     "name": "stderr",
     "output_type": "stream",
     "text": [
      "c:\\Users\\189\\AppData\\Local\\Programs\\Python\\Python311\\Lib\\site-packages\\tqdm\\auto.py:21: TqdmWarning: IProgress not found. Please update jupyter and ipywidgets. See https://ipywidgets.readthedocs.io/en/stable/user_install.html\n",
      "  from .autonotebook import tqdm as notebook_tqdm\n"
     ]
    }
   ],
   "source": [
    "from transformers import GPT2LMHeadModel, GPT2Tokenizer\n",
    "import torch"
   ]
  },
  {
   "cell_type": "code",
   "execution_count": 2,
   "metadata": {},
   "outputs": [],
   "source": [
    "model_name = 'gpt2'\n",
    "tokenizer = GPT2Tokenizer.from_pretrained(model_name)\n",
    "model = GPT2LMHeadModel.from_pretrained(model_name)"
   ]
  },
  {
   "cell_type": "code",
   "execution_count": 8,
   "metadata": {},
   "outputs": [
    {
     "data": {
      "text/plain": [
       "GPT2LMHeadModel(\n",
       "  (transformer): GPT2Model(\n",
       "    (wte): Embedding(50257, 768)\n",
       "    (wpe): Embedding(1024, 768)\n",
       "    (drop): Dropout(p=0.1, inplace=False)\n",
       "    (h): ModuleList(\n",
       "      (0-11): 12 x GPT2Block(\n",
       "        (ln_1): LayerNorm((768,), eps=1e-05, elementwise_affine=True)\n",
       "        (attn): GPT2Attention(\n",
       "          (c_attn): Conv1D()\n",
       "          (c_proj): Conv1D()\n",
       "          (attn_dropout): Dropout(p=0.1, inplace=False)\n",
       "          (resid_dropout): Dropout(p=0.1, inplace=False)\n",
       "        )\n",
       "        (ln_2): LayerNorm((768,), eps=1e-05, elementwise_affine=True)\n",
       "        (mlp): GPT2MLP(\n",
       "          (c_fc): Conv1D()\n",
       "          (c_proj): Conv1D()\n",
       "          (act): NewGELUActivation()\n",
       "          (dropout): Dropout(p=0.1, inplace=False)\n",
       "        )\n",
       "      )\n",
       "    )\n",
       "    (ln_f): LayerNorm((768,), eps=1e-05, elementwise_affine=True)\n",
       "  )\n",
       "  (lm_head): Linear(in_features=768, out_features=50257, bias=False)\n",
       ")"
      ]
     },
     "execution_count": 8,
     "metadata": {},
     "output_type": "execute_result"
    }
   ],
   "source": [
    "model.eval()"
   ]
  },
  {
   "cell_type": "code",
   "execution_count": 6,
   "metadata": {},
   "outputs": [],
   "source": [
    "#text = 'Один мой друг задумался над тем, а правильно ли мы читаем книги? И действительно, чтение процесс сам по себе сложный: тебе необходимо сконцентрироваться на тексте, погрузиться в контекст, подключить воображение и еще много чего. Но насколько все это помогает понять смысл, который вложил автор в свое произведение? На этот вопрос каждый ответит по-своему, однако можно обратиться к ученым, создавшим несколько способов по правильному чтению. Первый способ — структурный. Его главной целью является определение главной проблемы, поднимаемой автором. Как его использовать: Попробовать передавать суть книги в нескольких предложениях (Пересказ, который впоследствии нужно написать и сузить до пары предложений) Выявить главную мысль каждой части книги и показать, как они связаны воедино (Используем сопоставление частей текста для лучшего понимания) Выяснить, какие проблемы затрагивает автор и как он намерен их решить (Задавать вопросы тексту: Что это такое? Какой цели служит? Каковы его характеристики? Какова цель автора и т. д.) Второй способ — Интерпретационный. Его целью является понять, смог ли автор решить проблему. Как его использовать: Определить значение ключевых слов (необычные слова, акцентные, непонятные, посвященные тематики автора) Отметить наиболее важные предложения и найти тезисы (передать смысл своими словами и привести иллюстрацию) Найти/сформулировать аргументы к тезисам (идти от выводов, а не наоборот) Определить какие проблемы автор решил, а какие нет (соотнести проблему и выводы, выяснить есть ли у этого решение)'"
   ]
  },
  {
   "cell_type": "code",
   "execution_count": 16,
   "metadata": {},
   "outputs": [
    {
     "name": "stderr",
     "output_type": "stream",
     "text": [
      "The attention mask and the pad token id were not set. As a consequence, you may observe unexpected behavior. Please pass your input's `attention_mask` to obtain reliable results.\n",
      "Setting `pad_token_id` to `eos_token_id`:50256 for open-end generation.\n"
     ]
    },
    {
     "name": "stdout",
     "output_type": "stream",
     "text": [
      "Generated Title: Make a short title for this text, use less than 6 words: A recent study on climate change impacts on coastal regions reveals significant risk of flooding and erosion due to rising sea levels.\n",
      "\n",
      "The study, published in the Proceedings of the National Academy of Sciences, looked at data from the U.S. National Oceanic and Atmospheric Administration's (NOAA) National Hurricane Center (NHC)\n"
     ]
    }
   ],
   "source": [
    "def generate_title(text, model, tokenizer, max_length=80):\n",
    "    prompt = f\"Make a short title for this text, use less than 6 words: {text}\"\n",
    "    inputs = tokenizer.encode(prompt, return_tensors='pt')\n",
    "    outputs = model.generate(inputs, max_length=max_length, num_return_sequences=1, num_beams=5, no_repeat_ngram_size=2, early_stopping=True)\n",
    "    title = tokenizer.decode(outputs[0], skip_special_tokens=True)\n",
    "    return title.replace(\"Title:\", \"\").strip()\n",
    "\n",
    "# Example text\n",
    "text = \"A recent study on climate change impacts on coastal regions reveals significant risk of flooding and erosion due to rising sea levels.\"\n",
    "title = generate_title(text, model, tokenizer)\n",
    "print(\"Generated Title:\", title)\n"
   ]
  }
 ],
 "metadata": {
  "kernelspec": {
   "display_name": "Python 3",
   "language": "python",
   "name": "python3"
  },
  "language_info": {
   "codemirror_mode": {
    "name": "ipython",
    "version": 3
   },
   "file_extension": ".py",
   "mimetype": "text/x-python",
   "name": "python",
   "nbconvert_exporter": "python",
   "pygments_lexer": "ipython3",
   "version": "3.11.3"
  }
 },
 "nbformat": 4,
 "nbformat_minor": 2
}
