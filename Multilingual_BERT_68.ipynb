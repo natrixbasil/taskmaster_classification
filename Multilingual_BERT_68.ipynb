{
  "nbformat": 4,
  "nbformat_minor": 0,
  "metadata": {
    "colab": {
      "provenance": [],
      "authorship_tag": "ABX9TyMzkE/kcB+S1qeFQ9XWAT9K",
      "include_colab_link": true
    },
    "kernelspec": {
      "name": "python3",
      "display_name": "Python 3"
    },
    "language_info": {
      "name": "python"
    }
  },
  "cells": [
    {
      "cell_type": "markdown",
      "metadata": {
        "id": "view-in-github",
        "colab_type": "text"
      },
      "source": [
        "<a href=\"https://colab.research.google.com/github/natrixbasil/taskmaster_classification/blob/main/Multilingual_BERT_68.ipynb\" target=\"_parent\"><img src=\"https://colab.research.google.com/assets/colab-badge.svg\" alt=\"Open In Colab\"/></a>"
      ]
    },
    {
      "cell_type": "code",
      "execution_count": 66,
      "metadata": {
        "id": "p78nCt-KDxkz"
      },
      "outputs": [],
      "source": [
        "import torch\n",
        "import pandas as pd\n",
        "from transformers import BertForSequenceClassification, BertTokenizer, AdamW, get_linear_schedule_with_warmup\n",
        "from sklearn.model_selection import train_test_split\n",
        "from sklearn.preprocessing import LabelEncoder\n",
        "from torch.utils.data import Dataset, DataLoader"
      ]
    },
    {
      "cell_type": "code",
      "source": [
        "#Load pre-trained multilingual BERT model and tokenizer\n",
        "model = BertForSequenceClassification.from_pretrained(\"bert-base-multilingual-cased\", num_labels=4)\n",
        "#The tags are: 0 - shopping, 1 - home, 2 - school, 3 - work\n",
        "tokenizer = BertTokenizer.from_pretrained(\"bert-base-multilingual-cased\")"
      ],
      "metadata": {
        "colab": {
          "base_uri": "https://localhost:8080/"
        },
        "id": "D7PnwZSYD861",
        "outputId": "23389e0e-0aeb-45a7-c41a-b0514aa1c8b8"
      },
      "execution_count": 8,
      "outputs": [
        {
          "output_type": "stream",
          "name": "stderr",
          "text": [
            "Some weights of BertForSequenceClassification were not initialized from the model checkpoint at bert-base-multilingual-cased and are newly initialized: ['classifier.bias', 'classifier.weight']\n",
            "You should probably TRAIN this model on a down-stream task to be able to use it for predictions and inference.\n"
          ]
        }
      ]
    },
    {
      "cell_type": "code",
      "source": [
        "#Load my dataset\n",
        "file_path = '/content/filtered_data.json'\n",
        "df = pd.read_json(file_path)\n",
        "df.head()"
      ],
      "metadata": {
        "colab": {
          "base_uri": "https://localhost:8080/",
          "height": 206
        },
        "id": "6Z-fl84Nw7y3",
        "outputId": "193621a3-75b9-4984-f7b3-6574abc69ee4"
      },
      "execution_count": 56,
      "outputs": [
        {
          "output_type": "execute_result",
          "data": {
            "text/plain": [
              "   id         TaskTitle     ListTitle\n",
              "0   1  rearrange closet          home\n",
              "1   2     meeting tasks          work\n",
              "2   3     taste of home     groceries\n",
              "3   4     bring book in  default list\n",
              "4   5   sociology paper         today"
            ],
            "text/html": [
              "\n",
              "  <div id=\"df-ce260b35-0c63-4d3d-a0b3-d4a4b25b80cc\" class=\"colab-df-container\">\n",
              "    <div>\n",
              "<style scoped>\n",
              "    .dataframe tbody tr th:only-of-type {\n",
              "        vertical-align: middle;\n",
              "    }\n",
              "\n",
              "    .dataframe tbody tr th {\n",
              "        vertical-align: top;\n",
              "    }\n",
              "\n",
              "    .dataframe thead th {\n",
              "        text-align: right;\n",
              "    }\n",
              "</style>\n",
              "<table border=\"1\" class=\"dataframe\">\n",
              "  <thead>\n",
              "    <tr style=\"text-align: right;\">\n",
              "      <th></th>\n",
              "      <th>id</th>\n",
              "      <th>TaskTitle</th>\n",
              "      <th>ListTitle</th>\n",
              "    </tr>\n",
              "  </thead>\n",
              "  <tbody>\n",
              "    <tr>\n",
              "      <th>0</th>\n",
              "      <td>1</td>\n",
              "      <td>rearrange closet</td>\n",
              "      <td>home</td>\n",
              "    </tr>\n",
              "    <tr>\n",
              "      <th>1</th>\n",
              "      <td>2</td>\n",
              "      <td>meeting tasks</td>\n",
              "      <td>work</td>\n",
              "    </tr>\n",
              "    <tr>\n",
              "      <th>2</th>\n",
              "      <td>3</td>\n",
              "      <td>taste of home</td>\n",
              "      <td>groceries</td>\n",
              "    </tr>\n",
              "    <tr>\n",
              "      <th>3</th>\n",
              "      <td>4</td>\n",
              "      <td>bring book in</td>\n",
              "      <td>default list</td>\n",
              "    </tr>\n",
              "    <tr>\n",
              "      <th>4</th>\n",
              "      <td>5</td>\n",
              "      <td>sociology paper</td>\n",
              "      <td>today</td>\n",
              "    </tr>\n",
              "  </tbody>\n",
              "</table>\n",
              "</div>\n",
              "    <div class=\"colab-df-buttons\">\n",
              "\n",
              "  <div class=\"colab-df-container\">\n",
              "    <button class=\"colab-df-convert\" onclick=\"convertToInteractive('df-ce260b35-0c63-4d3d-a0b3-d4a4b25b80cc')\"\n",
              "            title=\"Convert this dataframe to an interactive table.\"\n",
              "            style=\"display:none;\">\n",
              "\n",
              "  <svg xmlns=\"http://www.w3.org/2000/svg\" height=\"24px\" viewBox=\"0 -960 960 960\">\n",
              "    <path d=\"M120-120v-720h720v720H120Zm60-500h600v-160H180v160Zm220 220h160v-160H400v160Zm0 220h160v-160H400v160ZM180-400h160v-160H180v160Zm440 0h160v-160H620v160ZM180-180h160v-160H180v160Zm440 0h160v-160H620v160Z\"/>\n",
              "  </svg>\n",
              "    </button>\n",
              "\n",
              "  <style>\n",
              "    .colab-df-container {\n",
              "      display:flex;\n",
              "      gap: 12px;\n",
              "    }\n",
              "\n",
              "    .colab-df-convert {\n",
              "      background-color: #E8F0FE;\n",
              "      border: none;\n",
              "      border-radius: 50%;\n",
              "      cursor: pointer;\n",
              "      display: none;\n",
              "      fill: #1967D2;\n",
              "      height: 32px;\n",
              "      padding: 0 0 0 0;\n",
              "      width: 32px;\n",
              "    }\n",
              "\n",
              "    .colab-df-convert:hover {\n",
              "      background-color: #E2EBFA;\n",
              "      box-shadow: 0px 1px 2px rgba(60, 64, 67, 0.3), 0px 1px 3px 1px rgba(60, 64, 67, 0.15);\n",
              "      fill: #174EA6;\n",
              "    }\n",
              "\n",
              "    .colab-df-buttons div {\n",
              "      margin-bottom: 4px;\n",
              "    }\n",
              "\n",
              "    [theme=dark] .colab-df-convert {\n",
              "      background-color: #3B4455;\n",
              "      fill: #D2E3FC;\n",
              "    }\n",
              "\n",
              "    [theme=dark] .colab-df-convert:hover {\n",
              "      background-color: #434B5C;\n",
              "      box-shadow: 0px 1px 3px 1px rgba(0, 0, 0, 0.15);\n",
              "      filter: drop-shadow(0px 1px 2px rgba(0, 0, 0, 0.3));\n",
              "      fill: #FFFFFF;\n",
              "    }\n",
              "  </style>\n",
              "\n",
              "    <script>\n",
              "      const buttonEl =\n",
              "        document.querySelector('#df-ce260b35-0c63-4d3d-a0b3-d4a4b25b80cc button.colab-df-convert');\n",
              "      buttonEl.style.display =\n",
              "        google.colab.kernel.accessAllowed ? 'block' : 'none';\n",
              "\n",
              "      async function convertToInteractive(key) {\n",
              "        const element = document.querySelector('#df-ce260b35-0c63-4d3d-a0b3-d4a4b25b80cc');\n",
              "        const dataTable =\n",
              "          await google.colab.kernel.invokeFunction('convertToInteractive',\n",
              "                                                    [key], {});\n",
              "        if (!dataTable) return;\n",
              "\n",
              "        const docLinkHtml = 'Like what you see? Visit the ' +\n",
              "          '<a target=\"_blank\" href=https://colab.research.google.com/notebooks/data_table.ipynb>data table notebook</a>'\n",
              "          + ' to learn more about interactive tables.';\n",
              "        element.innerHTML = '';\n",
              "        dataTable['output_type'] = 'display_data';\n",
              "        await google.colab.output.renderOutput(dataTable, element);\n",
              "        const docLink = document.createElement('div');\n",
              "        docLink.innerHTML = docLinkHtml;\n",
              "        element.appendChild(docLink);\n",
              "      }\n",
              "    </script>\n",
              "  </div>\n",
              "\n",
              "\n",
              "<div id=\"df-3e393129-2f62-462b-a589-b1fbf2910904\">\n",
              "  <button class=\"colab-df-quickchart\" onclick=\"quickchart('df-3e393129-2f62-462b-a589-b1fbf2910904')\"\n",
              "            title=\"Suggest charts\"\n",
              "            style=\"display:none;\">\n",
              "\n",
              "<svg xmlns=\"http://www.w3.org/2000/svg\" height=\"24px\"viewBox=\"0 0 24 24\"\n",
              "     width=\"24px\">\n",
              "    <g>\n",
              "        <path d=\"M19 3H5c-1.1 0-2 .9-2 2v14c0 1.1.9 2 2 2h14c1.1 0 2-.9 2-2V5c0-1.1-.9-2-2-2zM9 17H7v-7h2v7zm4 0h-2V7h2v10zm4 0h-2v-4h2v4z\"/>\n",
              "    </g>\n",
              "</svg>\n",
              "  </button>\n",
              "\n",
              "<style>\n",
              "  .colab-df-quickchart {\n",
              "      --bg-color: #E8F0FE;\n",
              "      --fill-color: #1967D2;\n",
              "      --hover-bg-color: #E2EBFA;\n",
              "      --hover-fill-color: #174EA6;\n",
              "      --disabled-fill-color: #AAA;\n",
              "      --disabled-bg-color: #DDD;\n",
              "  }\n",
              "\n",
              "  [theme=dark] .colab-df-quickchart {\n",
              "      --bg-color: #3B4455;\n",
              "      --fill-color: #D2E3FC;\n",
              "      --hover-bg-color: #434B5C;\n",
              "      --hover-fill-color: #FFFFFF;\n",
              "      --disabled-bg-color: #3B4455;\n",
              "      --disabled-fill-color: #666;\n",
              "  }\n",
              "\n",
              "  .colab-df-quickchart {\n",
              "    background-color: var(--bg-color);\n",
              "    border: none;\n",
              "    border-radius: 50%;\n",
              "    cursor: pointer;\n",
              "    display: none;\n",
              "    fill: var(--fill-color);\n",
              "    height: 32px;\n",
              "    padding: 0;\n",
              "    width: 32px;\n",
              "  }\n",
              "\n",
              "  .colab-df-quickchart:hover {\n",
              "    background-color: var(--hover-bg-color);\n",
              "    box-shadow: 0 1px 2px rgba(60, 64, 67, 0.3), 0 1px 3px 1px rgba(60, 64, 67, 0.15);\n",
              "    fill: var(--button-hover-fill-color);\n",
              "  }\n",
              "\n",
              "  .colab-df-quickchart-complete:disabled,\n",
              "  .colab-df-quickchart-complete:disabled:hover {\n",
              "    background-color: var(--disabled-bg-color);\n",
              "    fill: var(--disabled-fill-color);\n",
              "    box-shadow: none;\n",
              "  }\n",
              "\n",
              "  .colab-df-spinner {\n",
              "    border: 2px solid var(--fill-color);\n",
              "    border-color: transparent;\n",
              "    border-bottom-color: var(--fill-color);\n",
              "    animation:\n",
              "      spin 1s steps(1) infinite;\n",
              "  }\n",
              "\n",
              "  @keyframes spin {\n",
              "    0% {\n",
              "      border-color: transparent;\n",
              "      border-bottom-color: var(--fill-color);\n",
              "      border-left-color: var(--fill-color);\n",
              "    }\n",
              "    20% {\n",
              "      border-color: transparent;\n",
              "      border-left-color: var(--fill-color);\n",
              "      border-top-color: var(--fill-color);\n",
              "    }\n",
              "    30% {\n",
              "      border-color: transparent;\n",
              "      border-left-color: var(--fill-color);\n",
              "      border-top-color: var(--fill-color);\n",
              "      border-right-color: var(--fill-color);\n",
              "    }\n",
              "    40% {\n",
              "      border-color: transparent;\n",
              "      border-right-color: var(--fill-color);\n",
              "      border-top-color: var(--fill-color);\n",
              "    }\n",
              "    60% {\n",
              "      border-color: transparent;\n",
              "      border-right-color: var(--fill-color);\n",
              "    }\n",
              "    80% {\n",
              "      border-color: transparent;\n",
              "      border-right-color: var(--fill-color);\n",
              "      border-bottom-color: var(--fill-color);\n",
              "    }\n",
              "    90% {\n",
              "      border-color: transparent;\n",
              "      border-bottom-color: var(--fill-color);\n",
              "    }\n",
              "  }\n",
              "</style>\n",
              "\n",
              "  <script>\n",
              "    async function quickchart(key) {\n",
              "      const quickchartButtonEl =\n",
              "        document.querySelector('#' + key + ' button');\n",
              "      quickchartButtonEl.disabled = true;  // To prevent multiple clicks.\n",
              "      quickchartButtonEl.classList.add('colab-df-spinner');\n",
              "      try {\n",
              "        const charts = await google.colab.kernel.invokeFunction(\n",
              "            'suggestCharts', [key], {});\n",
              "      } catch (error) {\n",
              "        console.error('Error during call to suggestCharts:', error);\n",
              "      }\n",
              "      quickchartButtonEl.classList.remove('colab-df-spinner');\n",
              "      quickchartButtonEl.classList.add('colab-df-quickchart-complete');\n",
              "    }\n",
              "    (() => {\n",
              "      let quickchartButtonEl =\n",
              "        document.querySelector('#df-3e393129-2f62-462b-a589-b1fbf2910904 button');\n",
              "      quickchartButtonEl.style.display =\n",
              "        google.colab.kernel.accessAllowed ? 'block' : 'none';\n",
              "    })();\n",
              "  </script>\n",
              "</div>\n",
              "    </div>\n",
              "  </div>\n"
            ]
          },
          "metadata": {},
          "execution_count": 56
        }
      ]
    },
    {
      "cell_type": "code",
      "source": [
        "#Find out which tags are the most popular\n",
        "variety = df['ListTitle'].value_counts()\n",
        "variety.head(10)"
      ],
      "metadata": {
        "colab": {
          "base_uri": "https://localhost:8080/"
        },
        "id": "M8ov00pKxxMz",
        "outputId": "c2417e46-ef4c-4239-e289-dbf559120378"
      },
      "execution_count": 62,
      "outputs": [
        {
          "output_type": "execute_result",
          "data": {
            "text/plain": [
              "default list    5393\n",
              "to do           1367\n",
              "work            1252\n",
              "today            343\n",
              "home             167\n",
              "family           157\n",
              "to do list       143\n",
              "school           140\n",
              "groceries        108\n",
              "house             86\n",
              "Name: ListTitle, dtype: int64"
            ]
          },
          "metadata": {},
          "execution_count": 62
        }
      ]
    },
    {
      "cell_type": "code",
      "source": [
        "#Take the first 100 todos for each category\n",
        "home = df.loc[df['ListTitle'] == 'home'][0:100]\n",
        "work = df.loc[df['ListTitle'] == 'work'][0:100]\n",
        "school = df.loc[df['ListTitle'] == 'school'][0:100]\n",
        "groceries = df.loc[df['ListTitle'] == 'groceries'][0:100]\n",
        "print(len(home), len(work), len(school), len(shopping))"
      ],
      "metadata": {
        "colab": {
          "base_uri": "https://localhost:8080/"
        },
        "id": "WjqNmOdWzPD8",
        "outputId": "e1a65ed7-c94b-415c-f8b5-2aacea60e643"
      },
      "execution_count": 63,
      "outputs": [
        {
          "output_type": "stream",
          "name": "stdout",
          "text": [
            "100 100 100 100\n"
          ]
        }
      ]
    },
    {
      "cell_type": "code",
      "source": [
        "#Make one dataframe\n",
        "trimmed_df = pd.concat([home, work, school, groceries])\n",
        "print(trimmed_df.head())\n",
        "print(len(trimmed_df))"
      ],
      "metadata": {
        "colab": {
          "base_uri": "https://localhost:8080/"
        },
        "id": "V6X2snQ7zo2K",
        "outputId": "1d7b48b1-4ff8-495a-c7c5-6daebbf2757b"
      },
      "execution_count": 68,
      "outputs": [
        {
          "output_type": "stream",
          "name": "stdout",
          "text": [
            "      id             TaskTitle ListTitle\n",
            "0      1      rearrange closet      home\n",
            "6      7             osteopath      home\n",
            "48    49    change mobile plan      home\n",
            "97    98   bring in headphones      home\n",
            "167  168  emissions inspection      home\n",
            "400\n"
          ]
        }
      ]
    },
    {
      "cell_type": "code",
      "source": [
        "#Shuffle the dataframe\n",
        "trimmed_df = trimmed_df.sample(frac=1)\n",
        "print(trimmed_df.head())\n",
        "print(len(trimmed_df))"
      ],
      "metadata": {
        "colab": {
          "base_uri": "https://localhost:8080/"
        },
        "id": "V3_BDqZo2BlF",
        "outputId": "f265ed0b-f468-4ed2-8777-76cd378e2043"
      },
      "execution_count": 69,
      "outputs": [
        {
          "output_type": "stream",
          "name": "stdout",
          "text": [
            "        id             TaskTitle  ListTitle\n",
            "32      33              copy dvd       work\n",
            "4720  4721  cranberry lime juice  groceries\n",
            "3944  3945            sweep pool       home\n",
            "2078  2079            buy sander       home\n",
            "3107  3108       grefe detergent  groceries\n",
            "400\n"
          ]
        }
      ]
    },
    {
      "cell_type": "code",
      "source": [
        "label_encoder = LabelEncoder()\n",
        "trimmed_df['ListTitle'] = label_encoder.fit_transform(trimmed_df['ListTitle'])\n",
        "print(trimmed_df[100:120])"
      ],
      "metadata": {
        "colab": {
          "base_uri": "https://localhost:8080/"
        },
        "id": "48MqClrtG0Df",
        "outputId": "95a975a3-1143-476a-a976-11dbdec4cbeb"
      },
      "execution_count": 100,
      "outputs": [
        {
          "output_type": "stream",
          "name": "stdout",
          "text": [
            "        id                         TaskTitle  ListTitle\n",
            "75      76                    zzzquil liquid          0\n",
            "125    126                 astronaut costume          0\n",
            "765    766              figure out voicemail          3\n",
            "2537  2538                        us project          2\n",
            "327    328                         ais final          2\n",
            "3992  3993                 submit reflection          2\n",
            "1935  1936                 gf spiral noodles          0\n",
            "3163  3164  install carbon monoxide detector          1\n",
            "8643  8644                       finnur milk          0\n",
            "1475  1476                  book electrician          1\n",
            "1006  1007                      white potato          0\n",
            "4659  4660                        patho exam          2\n",
            "661    662                 algebra questions          3\n",
            "793    794                        email deon          3\n",
            "4827  4828                          dinner x          0\n",
            "491    492                  care plan review          3\n",
            "2943  2944                straighten kitchen          1\n",
            "7893  7894                       oyenike oil          0\n",
            "421    422                       buy pathoma          2\n",
            "2489  2490                 sreegesh crackers          0\n"
          ]
        }
      ]
    },
    {
      "cell_type": "code",
      "source": [
        "#Split the dataset into training and validation sets\n",
        "train_df, val_df = train_test_split(trimmed_df, test_size=0.2, random_state=42)"
      ],
      "metadata": {
        "id": "bj1YJrSe2fXb"
      },
      "execution_count": 71,
      "outputs": []
    },
    {
      "cell_type": "code",
      "source": [
        "class CustomDataset(Dataset):\n",
        "    def __init__(self, dataframe, tokenizer, max_length):\n",
        "        self.dataframe = dataframe\n",
        "        self.tokenizer = tokenizer\n",
        "        self.max_length = max_length\n",
        "\n",
        "    def __len__(self):\n",
        "        return len(self.dataframe)\n",
        "\n",
        "    def __getitem__(self, idx):\n",
        "        task_title = str(self.dataframe.iloc[idx]['TaskTitle'])\n",
        "        list_title = self.dataframe.iloc[idx]['ListTitle']\n",
        "\n",
        "        # Tokenize the text\n",
        "        inputs = self.tokenizer(\n",
        "            task_title,\n",
        "            max_length=self.max_length,\n",
        "            padding='max_length',\n",
        "            truncation=True,\n",
        "            return_tensors='pt'\n",
        "        )\n",
        "\n",
        "        # Get the label (ListTitle)\n",
        "        label = list_title\n",
        "\n",
        "        return {\n",
        "            'input_ids': inputs['input_ids'].squeeze(),\n",
        "            'attention_mask': inputs['attention_mask'].squeeze(),\n",
        "            'label': label\n",
        "        }"
      ],
      "metadata": {
        "id": "YHjxq4aw4MIO"
      },
      "execution_count": 82,
      "outputs": []
    },
    {
      "cell_type": "code",
      "source": [
        "# Initialize the BERT tokenizer\n",
        "tokenizer = BertTokenizer.from_pretrained('bert-base-multilingual-cased')"
      ],
      "metadata": {
        "id": "jEzX_EKI6ckX"
      },
      "execution_count": 83,
      "outputs": []
    },
    {
      "cell_type": "code",
      "source": [
        "#Determine the max token length\n",
        "token_lengths = [len(tokenizer.encode(text)) for text in trimmed_df['TaskTitle']]\n",
        "max_token_length = max(token_lengths)\n",
        "print(f\"Max token length: {max_token_length}\")"
      ],
      "metadata": {
        "colab": {
          "base_uri": "https://localhost:8080/"
        },
        "id": "jaYAaIcR6g9h",
        "outputId": "6366fe04-099f-476b-ce68-183c74a43caa"
      },
      "execution_count": 84,
      "outputs": [
        {
          "output_type": "stream",
          "name": "stdout",
          "text": [
            "Max token length: 12\n"
          ]
        }
      ]
    },
    {
      "cell_type": "code",
      "source": [
        "max_length = 12"
      ],
      "metadata": {
        "id": "E3DN-A5N7Nkt"
      },
      "execution_count": 75,
      "outputs": []
    },
    {
      "cell_type": "code",
      "source": [
        "#Create training and validation datasets\n",
        "train_dataset = CustomDataset(train_df, tokenizer, max_length)\n",
        "val_dataset = CustomDataset(val_df, tokenizer, max_length)"
      ],
      "metadata": {
        "id": "rx7MbmRt7Y3t"
      },
      "execution_count": 85,
      "outputs": []
    },
    {
      "cell_type": "code",
      "source": [
        "#Create DataLoader instances for training and validation\n",
        "batch_size = 16\n",
        "train_dataloader = DataLoader(train_dataset, batch_size=batch_size, shuffle=True)\n",
        "val_dataloader = DataLoader(val_dataset, batch_size=batch_size, shuffle=False)"
      ],
      "metadata": {
        "id": "OQYzBi9T7f9s"
      },
      "execution_count": 89,
      "outputs": []
    },
    {
      "cell_type": "code",
      "source": [
        "#Set hyperparameters\n",
        "num_epochs = 3\n",
        "learning_rate = 1e-5"
      ],
      "metadata": {
        "id": "EwnffKhI8-KA"
      },
      "execution_count": 90,
      "outputs": []
    },
    {
      "cell_type": "code",
      "source": [
        "#Initialize the optimizer and scheduler\n",
        "optimizer = AdamW(model.parameters(), lr=learning_rate)\n",
        "total_steps = len(train_dataloader) * num_epochs\n",
        "scheduler = get_linear_schedule_with_warmup(optimizer, num_warmup_steps=0, num_training_steps=total_steps)"
      ],
      "metadata": {
        "id": "DjQZNlbWAcN0"
      },
      "execution_count": 91,
      "outputs": []
    },
    {
      "cell_type": "code",
      "source": [
        "# Training loop\n",
        "for epoch in range(num_epochs):\n",
        "    # Training steps\n",
        "    model.train()\n",
        "    for batch in train_dataloader:\n",
        "        inputs = torch.tensor(batch['input_ids'])\n",
        "        attention_mask = torch.tensor(batch['attention_mask'])\n",
        "        labels = torch.tensor(batch['label'])\n",
        "\n",
        "        # Forward pass\n",
        "        outputs = model(inputs, attention_mask=attention_mask, labels=labels)\n",
        "        loss = outputs.loss\n",
        "\n",
        "        # Backward pass and optimization\n",
        "        optimizer.zero_grad()\n",
        "        loss.backward()\n",
        "        optimizer.step()\n",
        "        scheduler.step()\n",
        "\n",
        "    # Validation steps\n",
        "    model.eval()\n",
        "    val_loss = 0.0\n",
        "    correct_predictions = 0\n",
        "\n",
        "    with torch.no_grad():\n",
        "        for batch in val_dataloader:\n",
        "            inputs = torch.tensor(batch['input_ids'])\n",
        "            attention_mask = torch.tensor(batch['attention_mask'])\n",
        "            labels = torch.tensor(batch['label'])\n",
        "\n",
        "            # Forward pass\n",
        "            outputs = model(inputs, attention_mask=attention_mask, labels=labels)\n",
        "            loss = outputs.loss\n",
        "            logits = outputs.logits\n",
        "\n",
        "            val_loss += loss.item()\n",
        "\n",
        "            # Calculate accuracy\n",
        "            predictions = torch.argmax(logits, dim=1)\n",
        "            correct_predictions += torch.sum(predictions == labels).item()\n",
        "\n",
        "    average_val_loss = val_loss / len(val_dataloader)\n",
        "    accuracy = correct_predictions / len(val_dataset)\n",
        "\n",
        "    print(f'Epoch {epoch + 1}/{num_epochs}, Loss: {average_val_loss}, Accuracy: {accuracy}')"
      ],
      "metadata": {
        "colab": {
          "base_uri": "https://localhost:8080/"
        },
        "id": "SqN-RttmAxUV",
        "outputId": "171af8a4-448b-463e-acde-c39a196ba2ac"
      },
      "execution_count": 92,
      "outputs": [
        {
          "output_type": "stream",
          "name": "stderr",
          "text": [
            "<ipython-input-92-b65cb304da96>:6: UserWarning: To copy construct from a tensor, it is recommended to use sourceTensor.clone().detach() or sourceTensor.clone().detach().requires_grad_(True), rather than torch.tensor(sourceTensor).\n",
            "  inputs = torch.tensor(batch['input_ids'])\n",
            "<ipython-input-92-b65cb304da96>:7: UserWarning: To copy construct from a tensor, it is recommended to use sourceTensor.clone().detach() or sourceTensor.clone().detach().requires_grad_(True), rather than torch.tensor(sourceTensor).\n",
            "  attention_mask = torch.tensor(batch['attention_mask'])\n",
            "<ipython-input-92-b65cb304da96>:8: UserWarning: To copy construct from a tensor, it is recommended to use sourceTensor.clone().detach() or sourceTensor.clone().detach().requires_grad_(True), rather than torch.tensor(sourceTensor).\n",
            "  labels = torch.tensor(batch['label'])\n",
            "<ipython-input-92-b65cb304da96>:27: UserWarning: To copy construct from a tensor, it is recommended to use sourceTensor.clone().detach() or sourceTensor.clone().detach().requires_grad_(True), rather than torch.tensor(sourceTensor).\n",
            "  inputs = torch.tensor(batch['input_ids'])\n",
            "<ipython-input-92-b65cb304da96>:28: UserWarning: To copy construct from a tensor, it is recommended to use sourceTensor.clone().detach() or sourceTensor.clone().detach().requires_grad_(True), rather than torch.tensor(sourceTensor).\n",
            "  attention_mask = torch.tensor(batch['attention_mask'])\n",
            "<ipython-input-92-b65cb304da96>:29: UserWarning: To copy construct from a tensor, it is recommended to use sourceTensor.clone().detach() or sourceTensor.clone().detach().requires_grad_(True), rather than torch.tensor(sourceTensor).\n",
            "  labels = torch.tensor(batch['label'])\n"
          ]
        },
        {
          "output_type": "stream",
          "name": "stdout",
          "text": [
            "Epoch 1/3, Loss: 0.8216330409049988, Accuracy: 0.6375\n",
            "Epoch 2/3, Loss: 0.8132106542587281, Accuracy: 0.65\n",
            "Epoch 3/3, Loss: 0.7942898333072662, Accuracy: 0.6875\n"
          ]
        }
      ]
    },
    {
      "cell_type": "code",
      "source": [
        "russian_tasks = [\"написать отчет\", \"молоко\", \"математика\", \"помыть пол\"]\n",
        "results = []\n",
        "other_results = []"
      ],
      "metadata": {
        "id": "CBAVV1ZGKiw0"
      },
      "execution_count": 121,
      "outputs": []
    },
    {
      "cell_type": "code",
      "source": [
        "tokenized_russian_tasks = tokenizer(russian_tasks, return_tensors=\"pt\", padding=True, truncation=True)"
      ],
      "metadata": {
        "id": "xb4aXx4gKvy-"
      },
      "execution_count": 122,
      "outputs": []
    },
    {
      "cell_type": "code",
      "source": [
        "predictions = model(**tokenized_russian_tasks)"
      ],
      "metadata": {
        "id": "wINMgd5XKzkS"
      },
      "execution_count": 123,
      "outputs": []
    },
    {
      "cell_type": "code",
      "source": [
        "list_pred = predictions['logits'].tolist()"
      ],
      "metadata": {
        "id": "bpuGuTEdK348"
      },
      "execution_count": 124,
      "outputs": []
    },
    {
      "cell_type": "code",
      "source": [
        "for sublist in list_pred:\n",
        "  max_prob = max(sublist)\n",
        "  max_index = sublist.index(max_prob)\n",
        "  if max_index == 0:\n",
        "    lucky_guess = 'groceries'\n",
        "  elif max_index == 1:\n",
        "    lucky_guess = 'home'\n",
        "  elif max_index == 2:\n",
        "    lucky_guess = 'school'\n",
        "  else:\n",
        "    lucky_guess = 'work'\n",
        "  results.append(lucky_guess)\n",
        "  sublist.remove(max_prob)\n",
        "  second_max_prob = max(sublist)\n",
        "  second_max_index = sublist.index(second_max_prob)\n",
        "  if second_max_index == 0:\n",
        "    unlucky_guess = 'groceries'\n",
        "  elif second_max_index == 1:\n",
        "    unlucky_guess = 'home'\n",
        "  elif second_max_index == 2:\n",
        "    unlucky_guess = 'school'\n",
        "  else:\n",
        "    unlucky_guess = 'work'\n",
        "  other_results.append(unlucky_guess)\n",
        "print(russian_tasks)\n",
        "print(results)\n",
        "print(other_results)"
      ],
      "metadata": {
        "colab": {
          "base_uri": "https://localhost:8080/"
        },
        "id": "YScCaxwNL3XH",
        "outputId": "400ffe15-30ea-4a02-d8e4-0cea38b1f184"
      },
      "execution_count": 125,
      "outputs": [
        {
          "output_type": "stream",
          "name": "stdout",
          "text": [
            "['написать отчет', 'молоко', 'математика', 'помыть пол']\n",
            "['work', 'groceries', 'school', 'home']\n",
            "['school', 'groceries', 'school', 'groceries']\n"
          ]
        }
      ]
    }
  ]
}